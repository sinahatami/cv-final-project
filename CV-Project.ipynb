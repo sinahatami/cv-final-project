{
 "cells": [
  {
   "cell_type": "code",
   "execution_count": 9,
   "metadata": {},
   "outputs": [],
   "source": [
    "from PIL import Image\n",
    "import cv2\n",
    "import os"
   ]
  },
  {
   "cell_type": "code",
   "execution_count": 10,
   "metadata": {},
   "outputs": [],
   "source": [
    "dataset_dir = \"./im_Dyskeratotic\"\n",
    "preprocessed_dir = \"./images\"\n",
    "os.makedirs(preprocessed_dir, exist_ok=True)"
   ]
  },
  {
   "cell_type": "code",
   "execution_count": 11,
   "metadata": {},
   "outputs": [
    {
     "ename": "error",
     "evalue": "OpenCV(4.7.0) :-1: error: (-5:Bad argument) in function 'resize'\n> Overload resolution failed:\n>  - src is not a numpy array, neither a scalar\n>  - Expected Ptr<cv::UMat> for argument 'src'\n",
     "output_type": "error",
     "traceback": [
      "\u001b[0;31m---------------------------------------------------------------------------\u001b[0m",
      "\u001b[0;31merror\u001b[0m                                     Traceback (most recent call last)",
      "Cell \u001b[0;32mIn[11], line 11\u001b[0m\n\u001b[1;32m      7\u001b[0m image \u001b[39m=\u001b[39m Image\u001b[39m.\u001b[39mopen(file_path)\n\u001b[1;32m      9\u001b[0m \u001b[39m# Perform preprocessing steps\u001b[39;00m\n\u001b[1;32m     10\u001b[0m \u001b[39m# Example: Resize the image to a specific size (e.g., 256x256 pixels)\u001b[39;00m\n\u001b[0;32m---> 11\u001b[0m image \u001b[39m=\u001b[39m cv2\u001b[39m.\u001b[39;49mresize(image, (\u001b[39m256\u001b[39;49m, \u001b[39m256\u001b[39;49m))\n\u001b[1;32m     13\u001b[0m \u001b[39m# Normalize the pixel values (convert to floating-point between 0 and 1)\u001b[39;00m\n\u001b[1;32m     14\u001b[0m image \u001b[39m=\u001b[39m image\u001b[39m.\u001b[39mastype(\u001b[39mfloat\u001b[39m) \u001b[39m/\u001b[39m \u001b[39m255.0\u001b[39m\n",
      "\u001b[0;31merror\u001b[0m: OpenCV(4.7.0) :-1: error: (-5:Bad argument) in function 'resize'\n> Overload resolution failed:\n>  - src is not a numpy array, neither a scalar\n>  - Expected Ptr<cv::UMat> for argument 'src'\n"
     ]
    }
   ],
   "source": [
    "for filename in os.listdir(dataset_dir):\n",
    "    if filename.endswith(\".bmp\"):\n",
    "        # Construct the full file path\n",
    "        file_path = os.path.join(dataset_dir, filename)\n",
    "\n",
    "        # Open the .bmp file using Pillow\n",
    "        image = Image.open(file_path)\n",
    "\n",
    "        # Perform preprocessing steps\n",
    "        # Example: Resize the image to a specific size (e.g., 256x256 pixels)\n",
    "        image = cv2.resize(image, (256, 256))\n",
    "\n",
    "        # Normalize the pixel values (convert to floating-point between 0 and 1)\n",
    "        image = image.astype(float) / 255.0\n",
    "\n",
    "        # Close the image file\n",
    "        image.close()\n"
   ]
  },
  {
   "cell_type": "code",
   "execution_count": null,
   "metadata": {},
   "outputs": [],
   "source": []
  }
 ],
 "metadata": {
  "kernelspec": {
   "display_name": "Python 3",
   "language": "python",
   "name": "python3"
  },
  "language_info": {
   "codemirror_mode": {
    "name": "ipython",
    "version": 3
   },
   "file_extension": ".py",
   "mimetype": "text/x-python",
   "name": "python",
   "nbconvert_exporter": "python",
   "pygments_lexer": "ipython3",
   "version": "3.10.6"
  },
  "orig_nbformat": 4
 },
 "nbformat": 4,
 "nbformat_minor": 2
}
